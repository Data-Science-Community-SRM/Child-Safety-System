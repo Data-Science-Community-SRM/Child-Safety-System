{
  "nbformat": 4,
  "nbformat_minor": 0,
  "metadata": {
    "colab": {
      "name": "LSTM.ipynb",
      "provenance": []
    },
    "kernelspec": {
      "name": "python3",
      "display_name": "Python 3"
    },
    "accelerator": "GPU"
  },
  "cells": [
    {
      "cell_type": "code",
      "metadata": {
        "colab": {
          "base_uri": "https://localhost:8080/"
        },
        "id": "yW7DhrWjxilm",
        "outputId": "369cb343-3f7e-4dd5-c548-b96a8944ad74"
      },
      "source": [
        "import pandas as pd\n",
        "import numpy as np\n",
        "import re\n",
        "from textblob import TextBlob, Word\n",
        "import nltk\n",
        "nltk.download('wordnet')\n",
        "nltk.download('punkt')\n",
        "nltk.download('stopwords')\n",
        "from nltk.corpus import stopwords\n",
        "from sklearn.model_selection import train_test_split\n",
        "from nltk.stem.porter import PorterStemmer"
      ],
      "execution_count": null,
      "outputs": [
        {
          "output_type": "stream",
          "text": [
            "[nltk_data] Downloading package wordnet to /root/nltk_data...\n",
            "[nltk_data]   Unzipping corpora/wordnet.zip.\n",
            "[nltk_data] Downloading package punkt to /root/nltk_data...\n",
            "[nltk_data]   Unzipping tokenizers/punkt.zip.\n",
            "[nltk_data] Downloading package stopwords to /root/nltk_data...\n",
            "[nltk_data]   Unzipping corpora/stopwords.zip.\n"
          ],
          "name": "stdout"
        }
      ]
    },
    {
      "cell_type": "code",
      "metadata": {
        "id": "fRAOdSzQ06wE"
      },
      "source": [
        "data = pd.read_csv(\"text_df.csv\",index_col = 0)\n",
        "data.head()\n",
        "data.reset_index(drop=True,inplace=True)"
      ],
      "execution_count": null,
      "outputs": []
    },
    {
      "cell_type": "code",
      "metadata": {
        "colab": {
          "base_uri": "https://localhost:8080/"
        },
        "id": "uDL_V1Z6Gr6m",
        "outputId": "3a577934-6d2c-49fb-c80c-86a0f196673b"
      },
      "source": [
        "data.isna().sum()"
      ],
      "execution_count": null,
      "outputs": [
        {
          "output_type": "execute_result",
          "data": {
            "text/plain": [
              "texts     1\n",
              "labels    0\n",
              "dtype: int64"
            ]
          },
          "metadata": {
            "tags": []
          },
          "execution_count": 18
        }
      ]
    },
    {
      "cell_type": "code",
      "metadata": {
        "colab": {
          "base_uri": "https://localhost:8080/"
        },
        "id": "9HwIWI9-mBtd",
        "outputId": "bd483178-34de-4907-fc17-d3d286cfc554"
      },
      "source": [
        "for i, j in enumerate(data['labels']):\n",
        "  try:\n",
        "    j = int (j)\n",
        "  except ValueError as e:\n",
        "    print (f'error on line {i}')\n",
        "    continue\n",
        "data.drop(labels = [2477],inplace = True)\n",
        "data.dropna(inplace = True)\n",
        "data['labels'].astype(int);"
      ],
      "execution_count": null,
      "outputs": [
        {
          "output_type": "stream",
          "text": [
            "error on line 2477\n"
          ],
          "name": "stdout"
        }
      ]
    },
    {
      "cell_type": "code",
      "metadata": {
        "id": "YqFKQZsrJZZL"
      },
      "source": [
        "stopwords_en = set(stopwords.words('english'))\n",
        "def clean_text(data):\n",
        "  clean_text = []\n",
        "  for i in data['texts']:\n",
        "    i = i.lower()\n",
        "    i = TextBlob(i)\n",
        "    i = \" \".join([word.lemmatize() for word in i.words if word not in stopwords_en and not word.isdigit()])\n",
        "    clean_text.append(i)\n",
        "  return clean_text"
      ],
      "execution_count": null,
      "outputs": []
    },
    {
      "cell_type": "code",
      "metadata": {
        "id": "P8kyyEUlNDin"
      },
      "source": [
        "data['texts'] = clean_text(data)"
      ],
      "execution_count": null,
      "outputs": []
    },
    {
      "cell_type": "code",
      "metadata": {
        "colab": {
          "base_uri": "https://localhost:8080/",
          "height": 204
        },
        "id": "2h5c109MPPwy",
        "outputId": "a39cb707-945c-4206-c5ae-dd53e6bd63c5"
      },
      "source": [
        "data.head()"
      ],
      "execution_count": null,
      "outputs": [
        {
          "output_type": "execute_result",
          "data": {
            "text/html": [
              "<div>\n",
              "<style scoped>\n",
              "    .dataframe tbody tr th:only-of-type {\n",
              "        vertical-align: middle;\n",
              "    }\n",
              "\n",
              "    .dataframe tbody tr th {\n",
              "        vertical-align: top;\n",
              "    }\n",
              "\n",
              "    .dataframe thead th {\n",
              "        text-align: right;\n",
              "    }\n",
              "</style>\n",
              "<table border=\"1\" class=\"dataframe\">\n",
              "  <thead>\n",
              "    <tr style=\"text-align: right;\">\n",
              "      <th></th>\n",
              "      <th>texts</th>\n",
              "      <th>labels</th>\n",
              "    </tr>\n",
              "  </thead>\n",
              "  <tbody>\n",
              "    <tr>\n",
              "      <th>0</th>\n",
              "      <td>hey guy know breathing neck get bud anyway abl...</td>\n",
              "      <td>0</td>\n",
              "    </tr>\n",
              "    <tr>\n",
              "      <th>1</th>\n",
              "      <td>deed number mean nothing fair well puffy jacke...</td>\n",
              "      <td>0</td>\n",
              "    </tr>\n",
              "    <tr>\n",
              "      <th>2</th>\n",
              "      <td>nothing anyway give treat</td>\n",
              "      <td>0</td>\n",
              "    </tr>\n",
              "    <tr>\n",
              "      <th>3</th>\n",
              "      <td>child support</td>\n",
              "      <td>0</td>\n",
              "    </tr>\n",
              "    <tr>\n",
              "      <th>4</th>\n",
              "      <td>want massage</td>\n",
              "      <td>1</td>\n",
              "    </tr>\n",
              "  </tbody>\n",
              "</table>\n",
              "</div>"
            ],
            "text/plain": [
              "                                               texts labels\n",
              "0  hey guy know breathing neck get bud anyway abl...      0\n",
              "1  deed number mean nothing fair well puffy jacke...      0\n",
              "2                          nothing anyway give treat      0\n",
              "3                                      child support      0\n",
              "4                                       want massage      1"
            ]
          },
          "metadata": {
            "tags": []
          },
          "execution_count": 22
        }
      ]
    },
    {
      "cell_type": "code",
      "metadata": {
        "id": "Pd2603liRKfC"
      },
      "source": [
        "import tensorflow as tf\n",
        "from tensorflow.python.keras.preprocessing import sequence\n",
        "from tensorflow.python.keras.preprocessing import text"
      ],
      "execution_count": null,
      "outputs": []
    },
    {
      "cell_type": "code",
      "metadata": {
        "id": "qhhhKBrLCRbW"
      },
      "source": [
        "x = data['texts'].values\n",
        "y = data['labels'].values\n",
        "X_train,X_test,y_train, y_test = train_test_split(x,y, test_size = 0.2, shuffle = True)\n",
        "y_train = y_train.astype(int)\n",
        "y_test = y_test.astype(int)"
      ],
      "execution_count": null,
      "outputs": []
    },
    {
      "cell_type": "code",
      "metadata": {
        "id": "bekm0Hetpjmd"
      },
      "source": [
        "tokenizer = text.Tokenizer(num_words = 1000)\n",
        "tokenizer.fit_on_texts(X_train)\n",
        "X_train = tokenizer.texts_to_sequences(X_train)\n",
        "X_test = tokenizer.texts_to_sequences(X_test)\n",
        "maxlength = len(max(X_train, key = len))\n",
        "X_train = sequence.pad_sequences(X_train,maxlen=maxlength)\n",
        "X_test = sequence.pad_sequences(X_test,maxlen=maxlength)\n",
        "index = tokenizer.word_index"
      ],
      "execution_count": null,
      "outputs": []
    },
    {
      "cell_type": "code",
      "metadata": {
        "id": "YwO13GXAtVJV"
      },
      "source": [
        "from keras.models import Sequential\n",
        "from keras.layers import Dense, Embedding, LSTM,Bidirectional, GlobalMaxPool1D,Dropout\n",
        "from keras.models import load_model\n",
        "from keras.callbacks import ModelCheckpoint"
      ],
      "execution_count": null,
      "outputs": []
    },
    {
      "cell_type": "code",
      "metadata": {
        "colab": {
          "base_uri": "https://localhost:8080/"
        },
        "id": "INsPptaBuvA2",
        "outputId": "81057a89-f6bf-4d2a-b401-96135b4eda9f"
      },
      "source": [
        "model = Sequential()\n",
        "model.add(Embedding(1000,64,input_length=X_train.shape[1]))\n",
        "model.add(Bidirectional(LSTM(196,return_sequences=True,name='lstm_layer',dropout=0.1,recurrent_dropout=0.1)))\n",
        "model.add(GlobalMaxPool1D())\n",
        "model.add(Dropout(0.3))\n",
        "model.add(Dense(1,activation='sigmoid'))\n",
        "model.compile(loss='binary_crossentropy',\n",
        "              optimizer=tf.keras.optimizers.Adam(),\n",
        "              metrics=['acc'])\n",
        "model.summary()"
      ],
      "execution_count": null,
      "outputs": [
        {
          "output_type": "stream",
          "text": [
            "WARNING:tensorflow:Layer lstm_layer will not use cuDNN kernel since it doesn't meet the cuDNN kernel criteria. It will use generic GPU kernel as fallback when running on GPU\n"
          ],
          "name": "stdout"
        },
        {
          "output_type": "stream",
          "text": [
            "WARNING:tensorflow:Layer lstm_layer will not use cuDNN kernel since it doesn't meet the cuDNN kernel criteria. It will use generic GPU kernel as fallback when running on GPU\n"
          ],
          "name": "stderr"
        },
        {
          "output_type": "stream",
          "text": [
            "WARNING:tensorflow:Layer lstm_layer will not use cuDNN kernel since it doesn't meet the cuDNN kernel criteria. It will use generic GPU kernel as fallback when running on GPU\n"
          ],
          "name": "stdout"
        },
        {
          "output_type": "stream",
          "text": [
            "WARNING:tensorflow:Layer lstm_layer will not use cuDNN kernel since it doesn't meet the cuDNN kernel criteria. It will use generic GPU kernel as fallback when running on GPU\n"
          ],
          "name": "stderr"
        },
        {
          "output_type": "stream",
          "text": [
            "WARNING:tensorflow:Layer lstm_layer will not use cuDNN kernel since it doesn't meet the cuDNN kernel criteria. It will use generic GPU kernel as fallback when running on GPU\n"
          ],
          "name": "stdout"
        },
        {
          "output_type": "stream",
          "text": [
            "WARNING:tensorflow:Layer lstm_layer will not use cuDNN kernel since it doesn't meet the cuDNN kernel criteria. It will use generic GPU kernel as fallback when running on GPU\n"
          ],
          "name": "stderr"
        },
        {
          "output_type": "stream",
          "text": [
            "Model: \"sequential_5\"\n",
            "_________________________________________________________________\n",
            "Layer (type)                 Output Shape              Param #   \n",
            "=================================================================\n",
            "embedding_5 (Embedding)      (None, 508, 64)           64000     \n",
            "_________________________________________________________________\n",
            "bidirectional_2 (Bidirection (None, 508, 392)          409248    \n",
            "_________________________________________________________________\n",
            "global_max_pooling1d_2 (Glob (None, 392)               0         \n",
            "_________________________________________________________________\n",
            "dropout (Dropout)            (None, 392)               0         \n",
            "_________________________________________________________________\n",
            "dense_2 (Dense)              (None, 1)                 393       \n",
            "=================================================================\n",
            "Total params: 473,641\n",
            "Trainable params: 473,641\n",
            "Non-trainable params: 0\n",
            "_________________________________________________________________\n"
          ],
          "name": "stdout"
        }
      ]
    },
    {
      "cell_type": "code",
      "metadata": {
        "colab": {
          "base_uri": "https://localhost:8080/"
        },
        "id": "AsZzWANZ2uwP",
        "outputId": "abbf6df5-5ff6-45f1-bb9e-fbdf1d10ab36"
      },
      "source": [
        "chk_pt = ModelCheckpoint('keras_model',monitor='val_acc',save_best_only=True)\n",
        "model.fit(X_train,y_train,batch_size=30,epochs=30,verbose=2,validation_split=0.2,callbacks=chk_pt)"
      ],
      "execution_count": null,
      "outputs": [
        {
          "output_type": "stream",
          "text": [
            "Epoch 1/100\n"
          ],
          "name": "stdout"
        }
      ]
    },
    {
      "cell_type": "code",
      "metadata": {
        "id": "9iLrEPFvrAZH"
      },
      "source": [
        "predictions = model.predict(X_test)\n",
        "predictions = np.round(predictions)"
      ],
      "execution_count": null,
      "outputs": []
    },
    {
      "cell_type": "code",
      "metadata": {
        "colab": {
          "base_uri": "https://localhost:8080/"
        },
        "id": "8PNkhIVQJv8D",
        "outputId": "f94e7234-2514-423e-a0ca-f186324c6e0b"
      },
      "source": [
        "from sklearn.metrics import accuracy_score, confusion_matrix\n",
        "score = accuracy_score(y_test,predictions)\n",
        "cm = confusion_matrix(y_test,predictions)\n",
        "print(\"score: {} cm: {}\".format(score,cm))"
      ],
      "execution_count": null,
      "outputs": [
        {
          "output_type": "stream",
          "text": [
            "score: 0.8264021365890881 cm: [[1135  277]\n",
            " [ 178 1031]]\n"
          ],
          "name": "stdout"
        }
      ]
    },
    {
      "cell_type": "code",
      "metadata": {
        "id": "Oc1WDuAPtjUE"
      },
      "source": [
        ""
      ],
      "execution_count": null,
      "outputs": []
    }
  ]
}