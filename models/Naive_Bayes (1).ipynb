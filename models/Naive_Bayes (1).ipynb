{
  "nbformat": 4,
  "nbformat_minor": 0,
  "metadata": {
    "colab": {
      "name": "Naive-Bayes.ipynb",
      "provenance": []
    },
    "kernelspec": {
      "name": "python3",
      "display_name": "Python 3"
    }
  },
  "cells": [
    {
      "cell_type": "code",
      "metadata": {
        "colab": {
          "base_uri": "https://localhost:8080/"
        },
        "id": "YqqJmhiYsGJb",
        "outputId": "2bdd4a99-7fd1-44b7-a3cf-2e1a29917d1b"
      },
      "source": [
        "## IMPORT LIBRARIES ##\n",
        "import re\n",
        "import pandas as pd\n",
        "import numpy as np\n",
        "import nltk\n",
        "nltk.download('wordnet')\n",
        "nltk.download('punkt')\n",
        "nltk.download('stopwords')\n",
        "from nltk.corpus import stopwords\n",
        "from nltk.stem import WordNetLemmatizer\n",
        "from nltk.stem.porter import PorterStemmer\n",
        "import textblob\n",
        "from textblob import TextBlob, Word \n",
        "import sklearn\n",
        "from sklearn.feature_extraction.text import CountVectorizer\n",
        "from sklearn.naive_bayes import GaussianNB\n",
        "from sklearn.metrics import confusion_matrix,accuracy_score"
      ],
      "execution_count": null,
      "outputs": [
        {
          "output_type": "stream",
          "text": [
            "[nltk_data] Downloading package wordnet to /root/nltk_data...\n",
            "[nltk_data]   Unzipping corpora/wordnet.zip.\n",
            "[nltk_data] Downloading package punkt to /root/nltk_data...\n",
            "[nltk_data]   Unzipping tokenizers/punkt.zip.\n",
            "[nltk_data] Downloading package stopwords to /root/nltk_data...\n",
            "[nltk_data]   Unzipping corpora/stopwords.zip.\n"
          ],
          "name": "stdout"
        }
      ]
    },
    {
      "cell_type": "code",
      "metadata": {
        "colab": {
          "base_uri": "https://localhost:8080/",
          "height": 204
        },
        "id": "84sdndnZungR",
        "outputId": "ec3aef1c-de1e-4dcd-e969-1ae646f5fb37"
      },
      "source": [
        "## EXTRACT DATA SAMPLE ##\n",
        "data = pd.read_csv(\"Combined_data.csv\")\n",
        "data_train = data[:100]\n",
        "data_test = data[100:150]\n",
        "data_train.head()"
      ],
      "execution_count": null,
      "outputs": [
        {
          "output_type": "execute_result",
          "data": {
            "text/html": [
              "<div>\n",
              "<style scoped>\n",
              "    .dataframe tbody tr th:only-of-type {\n",
              "        vertical-align: middle;\n",
              "    }\n",
              "\n",
              "    .dataframe tbody tr th {\n",
              "        vertical-align: top;\n",
              "    }\n",
              "\n",
              "    .dataframe thead th {\n",
              "        text-align: right;\n",
              "    }\n",
              "</style>\n",
              "<table border=\"1\" class=\"dataframe\">\n",
              "  <thead>\n",
              "    <tr style=\"text-align: right;\">\n",
              "      <th></th>\n",
              "      <th>text</th>\n",
              "      <th>labels</th>\n",
              "    </tr>\n",
              "  </thead>\n",
              "  <tbody>\n",
              "    <tr>\n",
              "      <th>0</th>\n",
              "      <td>Hey, a guy I know is breathing down my neck to...</td>\n",
              "      <td>0</td>\n",
              "    </tr>\n",
              "    <tr>\n",
              "      <th>1</th>\n",
              "      <td>Mr Deeds! am i 87? these numbers mean nothing ...</td>\n",
              "      <td>0</td>\n",
              "    </tr>\n",
              "    <tr>\n",
              "      <th>2</th>\n",
              "      <td>Why nothing. Ok anyway give me treat</td>\n",
              "      <td>0</td>\n",
              "    </tr>\n",
              "    <tr>\n",
              "      <th>3</th>\n",
              "      <td>no child support.</td>\n",
              "      <td>0</td>\n",
              "    </tr>\n",
              "    <tr>\n",
              "      <th>4</th>\n",
              "      <td>why do you want a massage</td>\n",
              "      <td>1</td>\n",
              "    </tr>\n",
              "  </tbody>\n",
              "</table>\n",
              "</div>"
            ],
            "text/plain": [
              "                                                text labels\n",
              "0  Hey, a guy I know is breathing down my neck to...      0\n",
              "1  Mr Deeds! am i 87? these numbers mean nothing ...      0\n",
              "2               Why nothing. Ok anyway give me treat      0\n",
              "3                                  no child support.      0\n",
              "4                          why do you want a massage      1"
            ]
          },
          "metadata": {
            "tags": []
          },
          "execution_count": 3
        }
      ]
    },
    {
      "cell_type": "code",
      "metadata": {
        "colab": {
          "base_uri": "https://localhost:8080/"
        },
        "id": "xSt8tNxMva9O",
        "outputId": "076218ed-07d2-45ec-bc4f-fc790618550b"
      },
      "source": [
        "## DATA CLEANING AND LEMMATIZING UTILITY ##\n",
        "def clean_text(data):\n",
        "  stopwords_en = set(stopwords.words('english'))\n",
        "  list_word_clean = []\n",
        "  for t in data['text']:\n",
        "    sent = TextBlob(t)\n",
        "    sent = sent.lower()\n",
        "    sent = \" \".join([word.lemmatize() for word in sent.words if word not in stopwords_en and not word.isdigit()])\n",
        "    sent = re.sub(r'((http|https)\\:\\/\\/)?[a-zA-Z0-9\\.\\/\\?\\:@\\-_=#]+\\.([a-zA-Z]){2,6}([a-zA-Z0-9\\.\\&\\/\\?\\:@\\-_=#])*', \n",
        "                  '', sent, flags=re.MULTILINE)\n",
        "    sent = re.sub('[^a-zA-Z]', ' ', sent)\n",
        "    sent = re.sub(r\"won\\'t\", \"will not\", sent)\n",
        "    sent = re.sub(r\"can\\'t\", \"can not\", sent)\n",
        "    sent = re.sub(r\"n\\'t\", \" not\", sent)\n",
        "    sent = re.sub(r\"\\'re\", \" are\", sent)\n",
        "    sent = re.sub(r\"\\'s\", \" is\", sent)\n",
        "    sent = re.sub(r\"\\'d\", \" would\", sent)\n",
        "    sent = re.sub(r\"\\'ll\", \" will\", sent)\n",
        "    sent = re.sub(r\"\\'t\", \" not\", sent)\n",
        "    sent = re.sub(r\"\\'ve\", \" have\", sent)\n",
        "    sent = re.sub(r\"\\'m\", \" am\", sent)\n",
        "    list_word_clean.append(sent)\n",
        "  data['clean-text'] = list_word_clean\n",
        "\n",
        "clean_text(data_train)\n",
        "clean_text(data_test)"
      ],
      "execution_count": null,
      "outputs": [
        {
          "output_type": "stream",
          "text": [
            "/usr/local/lib/python3.6/dist-packages/ipykernel_launcher.py:26: SettingWithCopyWarning: \n",
            "A value is trying to be set on a copy of a slice from a DataFrame.\n",
            "Try using .loc[row_indexer,col_indexer] = value instead\n",
            "\n",
            "See the caveats in the documentation: https://pandas.pydata.org/pandas-docs/stable/user_guide/indexing.html#returning-a-view-versus-a-copy\n"
          ],
          "name": "stderr"
        }
      ]
    },
    {
      "cell_type": "code",
      "metadata": {
        "colab": {
          "base_uri": "https://localhost:8080/",
          "height": 204
        },
        "id": "2Ico6mAoEdCx",
        "outputId": "9bfad453-3204-4c9d-af95-1bbbf550fe8c"
      },
      "source": [
        "data.head()"
      ],
      "execution_count": null,
      "outputs": [
        {
          "output_type": "execute_result",
          "data": {
            "text/html": [
              "<div>\n",
              "<style scoped>\n",
              "    .dataframe tbody tr th:only-of-type {\n",
              "        vertical-align: middle;\n",
              "    }\n",
              "\n",
              "    .dataframe tbody tr th {\n",
              "        vertical-align: top;\n",
              "    }\n",
              "\n",
              "    .dataframe thead th {\n",
              "        text-align: right;\n",
              "    }\n",
              "</style>\n",
              "<table border=\"1\" class=\"dataframe\">\n",
              "  <thead>\n",
              "    <tr style=\"text-align: right;\">\n",
              "      <th></th>\n",
              "      <th>text</th>\n",
              "      <th>labels</th>\n",
              "    </tr>\n",
              "  </thead>\n",
              "  <tbody>\n",
              "    <tr>\n",
              "      <th>0</th>\n",
              "      <td>Hey, a guy I know is breathing down my neck to...</td>\n",
              "      <td>0</td>\n",
              "    </tr>\n",
              "    <tr>\n",
              "      <th>1</th>\n",
              "      <td>Mr Deeds! am i 87? these numbers mean nothing ...</td>\n",
              "      <td>0</td>\n",
              "    </tr>\n",
              "    <tr>\n",
              "      <th>2</th>\n",
              "      <td>Why nothing. Ok anyway give me treat</td>\n",
              "      <td>0</td>\n",
              "    </tr>\n",
              "    <tr>\n",
              "      <th>3</th>\n",
              "      <td>no child support.</td>\n",
              "      <td>0</td>\n",
              "    </tr>\n",
              "    <tr>\n",
              "      <th>4</th>\n",
              "      <td>why do you want a massage</td>\n",
              "      <td>1</td>\n",
              "    </tr>\n",
              "  </tbody>\n",
              "</table>\n",
              "</div>"
            ],
            "text/plain": [
              "                                                text labels\n",
              "0  Hey, a guy I know is breathing down my neck to...      0\n",
              "1  Mr Deeds! am i 87? these numbers mean nothing ...      0\n",
              "2               Why nothing. Ok anyway give me treat      0\n",
              "3                                  no child support.      0\n",
              "4                          why do you want a massage      1"
            ]
          },
          "metadata": {
            "tags": []
          },
          "execution_count": 5
        }
      ]
    },
    {
      "cell_type": "code",
      "metadata": {
        "id": "CkiNBUdKqaRX"
      },
      "source": [
        "## VECTORIZING TEXT ##\n",
        "cv = CountVectorizer(max_features=1500)\n",
        "x_train = cv.fit_transform(data_train['clean-text']).toarray()\n",
        "x_test = cv.transform(data_test['clean-text']).toarray()\n",
        "y_train = data_train['labels']\n",
        "y_test = data_test['labels']"
      ],
      "execution_count": null,
      "outputs": []
    },
    {
      "cell_type": "code",
      "metadata": {
        "colab": {
          "base_uri": "https://localhost:8080/"
        },
        "id": "XI-AYMVxr6yD",
        "outputId": "3e2a4297-f75b-4646-a71a-ced653540cb1"
      },
      "source": [
        "## CLASSIFIER - NAIVE BAYES ##\n",
        "classifier = GaussianNB()\n",
        "classifier.fit(x_train,y_train)"
      ],
      "execution_count": null,
      "outputs": [
        {
          "output_type": "execute_result",
          "data": {
            "text/plain": [
              "GaussianNB(priors=None, var_smoothing=1e-09)"
            ]
          },
          "metadata": {
            "tags": []
          },
          "execution_count": 7
        }
      ]
    },
    {
      "cell_type": "code",
      "metadata": {
        "id": "WmFG9U7MsdQh"
      },
      "source": [
        "## PREDICTION ##\n",
        "y_pred = classifier.predict(x_test)"
      ],
      "execution_count": null,
      "outputs": []
    },
    {
      "cell_type": "code",
      "metadata": {
        "colab": {
          "base_uri": "https://localhost:8080/"
        },
        "id": "Se-1gFXAsiU8",
        "outputId": "27b88c63-3fba-4345-a832-117fe30c6613"
      },
      "source": [
        "## CONFUSION MATRIX AND SCORE ##\n",
        "cm = confusion_matrix(y_test,y_pred)\n",
        "sc = accuracy_score(y_test,y_pred)\n",
        "print(\"{}, {}\".format(cm,sc))"
      ],
      "execution_count": null,
      "outputs": [
        {
          "output_type": "stream",
          "text": [
            "[[16  7]\n",
            " [ 8 19]], 0.7\n"
          ],
          "name": "stdout"
        }
      ]
    },
    {
      "cell_type": "code",
      "metadata": {
        "colab": {
          "base_uri": "https://localhost:8080/"
        },
        "id": "pHySDWENvLjU",
        "outputId": "240c7aac-1c81-4227-b746-19b4b63851e0"
      },
      "source": [
        "## STEMMING TEXT AND CLASSIFYING ##\n",
        "def clean_text(data):\n",
        "  stopwords_en = set(stopwords.words('english'))\n",
        "  list_word_clean = []\n",
        "  for t in data['text']:\n",
        "    sent = TextBlob(t)\n",
        "    sent = sent.lower()\n",
        "    ps = PorterStemmer()\n",
        "    sent = \" \".join([ps.stem(word) for word in sent.words if word not in stopwords_en and not word.isdigit()])\n",
        "    sent = re.sub(r'((http|https)\\:\\/\\/)?[a-zA-Z0-9\\.\\/\\?\\:@\\-_=#]+\\.([a-zA-Z]){2,6}([a-zA-Z0-9\\.\\&\\/\\?\\:@\\-_=#])*', \n",
        "                  '', sent, flags=re.MULTILINE)\n",
        "    sent = re.sub('[^a-zA-Z]', ' ', sent)\n",
        "    sent = re.sub(r\"won\\'t\", \"will not\", sent)\n",
        "    sent = re.sub(r\"can\\'t\", \"can not\", sent)\n",
        "    sent = re.sub(r\"n\\'t\", \" not\", sent)\n",
        "    sent = re.sub(r\"\\'re\", \" are\", sent)\n",
        "    sent = re.sub(r\"\\'s\", \" is\", sent)\n",
        "    sent = re.sub(r\"\\'d\", \" would\", sent)\n",
        "    sent = re.sub(r\"\\'ll\", \" will\", sent)\n",
        "    sent = re.sub(r\"\\'t\", \" not\", sent)\n",
        "    sent = re.sub(r\"\\'ve\", \" have\", sent)\n",
        "    sent = re.sub(r\"\\'m\", \" am\", sent)\n",
        "    # word_list = nltk.word_tokenize(sent)\n",
        "    # lemmatized_output = ' '.join([lemmatizer.lemmatize(w) for w in word_list])\n",
        "    # nltkLemma.append(lemmatized_output)\n",
        "    list_word_clean.append(sent)\n",
        "  data['stem-text'] = list_word_clean\n",
        "\n",
        "clean_text(data_train)\n",
        "clean_text(data_test)"
      ],
      "execution_count": null,
      "outputs": [
        {
          "output_type": "stream",
          "text": [
            "/usr/local/lib/python3.6/dist-packages/ipykernel_launcher.py:27: SettingWithCopyWarning: \n",
            "A value is trying to be set on a copy of a slice from a DataFrame.\n",
            "Try using .loc[row_indexer,col_indexer] = value instead\n",
            "\n",
            "See the caveats in the documentation: https://pandas.pydata.org/pandas-docs/stable/user_guide/indexing.html#returning-a-view-versus-a-copy\n"
          ],
          "name": "stderr"
        }
      ]
    },
    {
      "cell_type": "code",
      "metadata": {
        "colab": {
          "base_uri": "https://localhost:8080/",
          "height": 204
        },
        "id": "oc6jTXOuBZGx",
        "outputId": "e429b5ca-4d45-488b-b4b9-3161232871ff"
      },
      "source": [
        "data_train.head()"
      ],
      "execution_count": null,
      "outputs": [
        {
          "output_type": "execute_result",
          "data": {
            "text/html": [
              "<div>\n",
              "<style scoped>\n",
              "    .dataframe tbody tr th:only-of-type {\n",
              "        vertical-align: middle;\n",
              "    }\n",
              "\n",
              "    .dataframe tbody tr th {\n",
              "        vertical-align: top;\n",
              "    }\n",
              "\n",
              "    .dataframe thead th {\n",
              "        text-align: right;\n",
              "    }\n",
              "</style>\n",
              "<table border=\"1\" class=\"dataframe\">\n",
              "  <thead>\n",
              "    <tr style=\"text-align: right;\">\n",
              "      <th></th>\n",
              "      <th>text</th>\n",
              "      <th>labels</th>\n",
              "      <th>clean-text</th>\n",
              "      <th>stem-text</th>\n",
              "    </tr>\n",
              "  </thead>\n",
              "  <tbody>\n",
              "    <tr>\n",
              "      <th>0</th>\n",
              "      <td>Hey, a guy I know is breathing down my neck to...</td>\n",
              "      <td>0</td>\n",
              "      <td>hey guy know breathing neck get bud anyway  d ...</td>\n",
              "      <td>hey guy know breath neck get bud anyway  d abl...</td>\n",
              "    </tr>\n",
              "    <tr>\n",
              "      <th>1</th>\n",
              "      <td>Mr Deeds! am i 87? these numbers mean nothing ...</td>\n",
              "      <td>0</td>\n",
              "      <td>mr deed number mean nothing fair well mr puffy...</td>\n",
              "      <td>mr deed number mean noth fair well mr puffi ja...</td>\n",
              "    </tr>\n",
              "    <tr>\n",
              "      <th>2</th>\n",
              "      <td>Why nothing. Ok anyway give me treat</td>\n",
              "      <td>0</td>\n",
              "      <td>nothing ok anyway give treat</td>\n",
              "      <td>noth ok anyway give treat</td>\n",
              "    </tr>\n",
              "    <tr>\n",
              "      <th>3</th>\n",
              "      <td>no child support.</td>\n",
              "      <td>0</td>\n",
              "      <td>child support</td>\n",
              "      <td>child support</td>\n",
              "    </tr>\n",
              "    <tr>\n",
              "      <th>4</th>\n",
              "      <td>why do you want a massage</td>\n",
              "      <td>1</td>\n",
              "      <td>want massage</td>\n",
              "      <td>want massag</td>\n",
              "    </tr>\n",
              "  </tbody>\n",
              "</table>\n",
              "</div>"
            ],
            "text/plain": [
              "                                                text  ...                                          stem-text\n",
              "0  Hey, a guy I know is breathing down my neck to...  ...  hey guy know breath neck get bud anyway  d abl...\n",
              "1  Mr Deeds! am i 87? these numbers mean nothing ...  ...  mr deed number mean noth fair well mr puffi ja...\n",
              "2               Why nothing. Ok anyway give me treat  ...                          noth ok anyway give treat\n",
              "3                                  no child support.  ...                                      child support\n",
              "4                          why do you want a massage  ...                                        want massag\n",
              "\n",
              "[5 rows x 4 columns]"
            ]
          },
          "metadata": {
            "tags": []
          },
          "execution_count": 11
        }
      ]
    },
    {
      "cell_type": "code",
      "metadata": {
        "id": "Vm2OIY00BiG1"
      },
      "source": [
        "cv = CountVectorizer(max_features=1500)\n",
        "x_train = cv.fit_transform(data_train['stem-text']).toarray()\n",
        "x_test = cv.transform(data_test['stem-text']).toarray()\n",
        "y_train = data_train['labels']\n",
        "y_test = data_test['labels']"
      ],
      "execution_count": null,
      "outputs": []
    },
    {
      "cell_type": "code",
      "metadata": {
        "colab": {
          "base_uri": "https://localhost:8080/"
        },
        "id": "2EW1V1Y9B-4c",
        "outputId": "26642de1-3739-48fb-d184-2a3f6b7fa224"
      },
      "source": [
        "classifier = GaussianNB()\n",
        "classifier.fit(x_train,y_train)"
      ],
      "execution_count": null,
      "outputs": [
        {
          "output_type": "execute_result",
          "data": {
            "text/plain": [
              "GaussianNB(priors=None, var_smoothing=1e-09)"
            ]
          },
          "metadata": {
            "tags": []
          },
          "execution_count": 14
        }
      ]
    },
    {
      "cell_type": "code",
      "metadata": {
        "id": "DvG4no2XCBbs"
      },
      "source": [
        "y_pred = classifier.predict(x_test)"
      ],
      "execution_count": null,
      "outputs": []
    },
    {
      "cell_type": "code",
      "metadata": {
        "colab": {
          "base_uri": "https://localhost:8080/"
        },
        "id": "E8D6sc39CDtI",
        "outputId": "769768e2-a802-4905-e311-f25a91585bff"
      },
      "source": [
        "cm = confusion_matrix(y_test,y_pred)\n",
        "sc = accuracy_score(y_test,y_pred)\n",
        "print(\"{}, {}\".format(cm,sc))"
      ],
      "execution_count": null,
      "outputs": [
        {
          "output_type": "stream",
          "text": [
            "[[20  3]\n",
            " [ 9 18]], 0.76\n"
          ],
          "name": "stdout"
        }
      ]
    },
    {
      "cell_type": "code",
      "metadata": {
        "id": "v827ZB8sx369"
      },
      "source": [
        ""
      ],
      "execution_count": null,
      "outputs": []
    }
  ]
}