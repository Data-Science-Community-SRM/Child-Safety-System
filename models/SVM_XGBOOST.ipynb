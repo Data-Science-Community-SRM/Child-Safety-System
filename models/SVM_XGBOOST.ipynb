{
  "nbformat": 4,
  "nbformat_minor": 0,
  "metadata": {
    "colab": {
      "name": "SVM XGBOOST.ipynb",
      "provenance": []
    },
    "kernelspec": {
      "name": "python3",
      "display_name": "Python 3"
    }
  },
  "cells": [
    {
      "cell_type": "code",
      "metadata": {
        "colab": {
          "base_uri": "https://localhost:8080/"
        },
        "id": "FxnH60c9B45X",
        "outputId": "a5f59e34-a538-4dba-dbd6-436992c46987"
      },
      "source": [
        "## IMPORT LIBRARIES ##\n",
        "import re\n",
        "import pandas as pd\n",
        "import numpy as np\n",
        "from sklearn.feature_extraction.text import TfidfVectorizer\n",
        "from sklearn.feature_selection import SelectKBest\n",
        "from sklearn.feature_selection import f_classif\n",
        "import nltk\n",
        "nltk.download('stopwords')\n",
        "from nltk.corpus import stopwords\n",
        "from nltk.stem.porter import PorterStemmer\n",
        "from sklearn.metrics import confusion_matrix,accuracy_score\n",
        "from sklearn import svm\n",
        "from sklearn.metrics import accuracy_score"
      ],
      "execution_count": null,
      "outputs": [
        {
          "output_type": "stream",
          "text": [
            "[nltk_data] Downloading package stopwords to /root/nltk_data...\n",
            "[nltk_data]   Package stopwords is already up-to-date!\n"
          ],
          "name": "stdout"
        }
      ]
    },
    {
      "cell_type": "code",
      "metadata": {
        "colab": {
          "base_uri": "https://localhost:8080/",
          "height": 204
        },
        "id": "8B-d9RFnGkqe",
        "outputId": "eaf8bd10-5d74-4848-8d86-d6f8e8486c92"
      },
      "source": [
        "data = pd.read_csv(\"Combined_data.csv\")\n",
        "data.head()"
      ],
      "execution_count": null,
      "outputs": [
        {
          "output_type": "execute_result",
          "data": {
            "text/html": [
              "<div>\n",
              "<style scoped>\n",
              "    .dataframe tbody tr th:only-of-type {\n",
              "        vertical-align: middle;\n",
              "    }\n",
              "\n",
              "    .dataframe tbody tr th {\n",
              "        vertical-align: top;\n",
              "    }\n",
              "\n",
              "    .dataframe thead th {\n",
              "        text-align: right;\n",
              "    }\n",
              "</style>\n",
              "<table border=\"1\" class=\"dataframe\">\n",
              "  <thead>\n",
              "    <tr style=\"text-align: right;\">\n",
              "      <th></th>\n",
              "      <th>text</th>\n",
              "      <th>labels</th>\n",
              "    </tr>\n",
              "  </thead>\n",
              "  <tbody>\n",
              "    <tr>\n",
              "      <th>0</th>\n",
              "      <td>Hey, a guy I know is breathing down my neck to...</td>\n",
              "      <td>0</td>\n",
              "    </tr>\n",
              "    <tr>\n",
              "      <th>1</th>\n",
              "      <td>Mr Deeds! am i 87? these numbers mean nothing ...</td>\n",
              "      <td>0</td>\n",
              "    </tr>\n",
              "    <tr>\n",
              "      <th>2</th>\n",
              "      <td>Why nothing. Ok anyway give me treat</td>\n",
              "      <td>0</td>\n",
              "    </tr>\n",
              "    <tr>\n",
              "      <th>3</th>\n",
              "      <td>no child support.</td>\n",
              "      <td>0</td>\n",
              "    </tr>\n",
              "    <tr>\n",
              "      <th>4</th>\n",
              "      <td>why do you want a massage</td>\n",
              "      <td>1</td>\n",
              "    </tr>\n",
              "  </tbody>\n",
              "</table>\n",
              "</div>"
            ],
            "text/plain": [
              "                                                text labels\n",
              "0  Hey, a guy I know is breathing down my neck to...      0\n",
              "1  Mr Deeds! am i 87? these numbers mean nothing ...      0\n",
              "2               Why nothing. Ok anyway give me treat      0\n",
              "3                                  no child support.      0\n",
              "4                          why do you want a massage      1"
            ]
          },
          "metadata": {
            "tags": []
          },
          "execution_count": 191
        }
      ]
    },
    {
      "cell_type": "code",
      "metadata": {
        "id": "HbhzFuE2HQv8"
      },
      "source": [
        "data_train = data[:1000]\n",
        "data_test = data[1000:1500]"
      ],
      "execution_count": null,
      "outputs": []
    },
    {
      "cell_type": "code",
      "metadata": {
        "id": "TM06fo5KHYYl"
      },
      "source": [
        "## PREPROCESSING ##\n",
        "stopwords_en = set(stopwords.words('english'))\n",
        "def clean_data(data):\n",
        "  cleaned_text = []\n",
        "  for sent in data['text']:\n",
        "    sent = sent.lower()\n",
        "    sent = re.sub(r'((http|https)\\:\\/\\/)?[a-zA-Z0-9\\.\\/\\?\\:@\\-_=#]+\\.([a-zA-Z]){2,6}([a-zA-Z0-9\\.\\&\\/\\?\\:@\\-_=#])*', \n",
        "                  '', sent, flags=re.MULTILINE)\n",
        "    sent = re.sub('[^a-zA-Z]', ' ', sent)\n",
        "    sent = re.sub(r\"won\\'t\", \"will not\", sent)\n",
        "    sent = re.sub(r\"can\\'t\", \"can not\", sent)\n",
        "    sent = re.sub(r\"n\\'t\", \" not\", sent)\n",
        "    sent = re.sub(r\"\\'re\", \" are\", sent)\n",
        "    sent = re.sub(r\"\\'s\", \" is\", sent)\n",
        "    sent = re.sub(r\"\\'d\", \" would\", sent)\n",
        "    sent = re.sub(r\"\\'ll\", \" will\", sent)\n",
        "    sent = re.sub(r\"\\'t\", \" not\", sent)\n",
        "    sent = re.sub(r\"\\'ve\", \" have\", sent)\n",
        "    sent = re.sub(r\"\\'m\", \" am\", sent)\n",
        "    ps = PorterStemmer()\n",
        "    sent = \" \".join([ps.stem(word) for word in sent.split() if word not in stopwords_en and not word.isdigit()])\n",
        "    cleaned_text.append(sent)\n",
        "  return cleaned_text"
      ],
      "execution_count": null,
      "outputs": []
    },
    {
      "cell_type": "code",
      "metadata": {
        "id": "2R39oSF1Ij6i"
      },
      "source": [
        "train_clean = clean_data(data_train)\n",
        "test_clean = clean_data(data_test)"
      ],
      "execution_count": null,
      "outputs": []
    },
    {
      "cell_type": "code",
      "metadata": {
        "colab": {
          "base_uri": "https://localhost:8080/"
        },
        "id": "v9lk7F3fI35_",
        "outputId": "445c5629-bbd9-45bb-b93b-99b519bbf94e"
      },
      "source": [
        "train_clean[:5]"
      ],
      "execution_count": null,
      "outputs": [
        {
          "output_type": "execute_result",
          "data": {
            "text/plain": [
              "['hey guy know breath neck get bud anyway abl get half track usf tonight',\n",
              " 'mr deed number mean noth fair well mr puffi jacket man ha ha ha',\n",
              " 'noth ok anyway give treat',\n",
              " 'child support',\n",
              " 'want massag']"
            ]
          },
          "metadata": {
            "tags": []
          },
          "execution_count": 195
        }
      ]
    },
    {
      "cell_type": "code",
      "metadata": {
        "id": "XLeSmMQjJMFB"
      },
      "source": [
        "## TFDIF VECTOR ##\n",
        "tfidf_vect_ngram = TfidfVectorizer(analyzer='word', token_pattern=r'\\w{1,}', ngram_range=(2,3), max_features=6000)\n",
        "tfidf_vect_ngram.fit(train_clean)\n",
        "xtrain_tfidf_ngram =  tfidf_vect_ngram.transform(train_clean)\n",
        "xvalid_tfidf_ngram =  tfidf_vect_ngram.transform(test_clean)"
      ],
      "execution_count": null,
      "outputs": []
    },
    {
      "cell_type": "code",
      "metadata": {
        "id": "WQW4h9oxo5sr"
      },
      "source": [
        "train_y = data_train['labels']\n",
        "test_y = data_test['labels']"
      ],
      "execution_count": null,
      "outputs": []
    },
    {
      "cell_type": "code",
      "metadata": {
        "colab": {
          "base_uri": "https://localhost:8080/"
        },
        "id": "-kY0bEUZWaSc",
        "outputId": "7239c411-0df4-400a-f998-c994261ea175"
      },
      "source": [
        "## SVM ##\n",
        "model = svm.LinearSVC()\n",
        "model.fit(xtrain_tfidf_ngram, train_y)\n",
        "predicted= model.predict(xvalid_tfidf_ngram)\n",
        "score=accuracy_score(test_y,predicted)\n",
        "cm = confusion_matrix(test_y,predicted)\n",
        "print(\"{}, {}\".format(cm,score))"
      ],
      "execution_count": null,
      "outputs": [
        {
          "output_type": "stream",
          "text": [
            "[[ 49 205]\n",
            " [ 10 236]], 0.57\n"
          ],
          "name": "stdout"
        }
      ]
    },
    {
      "cell_type": "code",
      "metadata": {
        "colab": {
          "base_uri": "https://localhost:8080/"
        },
        "id": "4u8pZx-4q2Zk",
        "outputId": "b7a61a71-eba9-40a7-8c12-931bd2ce4522"
      },
      "source": [
        "## XGBOOST ##\n",
        "from xgboost import XGBClassifier\n",
        "model = XGBClassifier()\n",
        "model.fit(xtrain_tfidf_ngram, train_y)\n",
        "y_pred = model.predict(xvalid_tfidf_ngram)\n",
        "score = accuracy_score(test_y, y_pred)\n",
        "cm = confusion_matrix(test_y,y_pred)\n",
        "print(\"{}, {}\".format(cm,score))"
      ],
      "execution_count": null,
      "outputs": [
        {
          "output_type": "stream",
          "text": [
            "[[253   1]\n",
            " [243   3]], 0.512\n"
          ],
          "name": "stdout"
        }
      ]
    },
    {
      "cell_type": "code",
      "metadata": {
        "id": "jvMB36-lKEWQ"
      },
      "source": [
        ""
      ],
      "execution_count": null,
      "outputs": []
    }
  ]
}